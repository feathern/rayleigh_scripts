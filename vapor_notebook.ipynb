{
 "cells": [
  {
   "cell_type": "code",
   "execution_count": 148,
   "metadata": {},
   "outputs": [],
   "source": [
    "class rayleigh_vapor:\n",
    "    \"\"\"Generates a vapor dataset from interpolated Rayleigh data\"\"\"\n",
    "    def __init__(self,vdc_name=None,varnames=None,varfiles=None, rayleigh_root=None, vapor_root=None, nxyz=None, grid_file=None):\n",
    "        self.numts=len(varfiles)\n",
    "        self.varnames=varnames\n",
    "        self.vdc_name=vdc_name\n",
    "        self.nvars=len(varnames)\n",
    "        self.varfiles=varfiles\n",
    "        varstring=' '\n",
    "        for i in range(self.nvars):\n",
    "            varstring=varstring+varnames[i]\n",
    "            if (i != self.nvars-1):\n",
    "                varstring=varstring+':'\n",
    "        self.varstring=varstring\n",
    "        print(self.varstring)\n",
    "        print(self.numts)\n",
    "        self.vapor_root=vapor_root\n",
    "        self.rayleigh_root=rayleigh_root\n",
    "        self.nxyz=nxyz\n",
    "        self.grid_file=grid_file\n",
    "    def create_vdc(self):\n",
    "        res=str(self.nxyz)\n",
    "        cube_string = res+'x'+res+'x'+res\n",
    "        cmd0 = 'rm '+self.vdc_name+' && '\n",
    "        cmd1 = 'export PATH=$PATH:'+self.vapor_root+'/bin'\n",
    "        cmd2 = ' && export LD_LIBRARY_PATH='+self.vapor_root+'/lib:$LD_LIBRARY_PATH'\n",
    "        cmd3 = ' && vdccreate -dimension '+cube_string+' -numts '+str(self.numts)\n",
    "        cmd3 = cmd3+' -vars3d '+self.varstring+' '+self.vdc_name\n",
    "        creation_cmd=cmd1+cmd2+cmd3+' && ls'\n",
    "        print(creation_cmd)\n",
    "        s=os.popen(creation_cmd)\n",
    "        b=s.read()\n",
    "        print(b)\n",
    "    def populate_vdc(self):\n",
    "        for i in range(self.numts):\n",
    "            for j in range(self.nvars):\n",
    "                infile=self.varfiles[i][j]\n",
    "                ofile=infile+'.cube'\n",
    "                self.rayleigh_to_cube(infile,ofile)\n",
    "                self.cube_to_vdc(ofile,i,j)\n",
    "    def rayleigh_to_cube(self,infile,ofile):\n",
    "        cmd1 = 'export PATH=$PATH:'+self.rayleigh_root\n",
    "        cmd2 = ' && echo $PATH && interp3d -i '+infile+' -o '+ofile+' -g '+self.grid_file+' -N '+str(self.nxyz)\n",
    "        cmd = cmd1+cmd2\n",
    "        s=os.popen(cmd)\n",
    "        b=s.read()\n",
    "        print(b)\n",
    "    def cube_to_vdc(self,ofile,timeind,varind):\n",
    "        cmd1 = 'export PATH=$PATH:'+self.vapor_root+'/bin'\n",
    "        cmd2 = ' && export LD_LIBRARY_PATH='+self.vapor_root+'/lib:$LD_LIBRARY_PATH'\n",
    "        cmd3 = ' && raw2vdc -ts '+str(timeind)+' -varname '+self.varnames[varind]\n",
    "        cmd3 = cmd3+' '+self.vdc_name+' '+ofile\n",
    "        cmd = cmd1+cmd2+cmd3\n",
    "        s=os.popen(cmd)\n",
    "        b=s.read()\n",
    "        print(b)\n",
    "        print(cmd)\n",
    "                "
   ]
  },
  {
   "cell_type": "code",
   "execution_count": 149,
   "metadata": {},
   "outputs": [
    {
     "name": "stdout",
     "output_type": "stream",
     "text": [
      " vr:vortz\n",
      "1\n",
      "export PATH=$PATH:/custom/software/VAPOR3-3.2.0-Linux/bin && export LD_LIBRARY_PATH=/custom/software/VAPOR3-3.2.0-Linux/lib:$LD_LIBRARY_PATH && vdccreate -dimension 256x256x256 -numts 1 -vars3d  vr:vortz jup_test.vdc && ls\n",
      "02086101_0001\n",
      "02086101_0001.cube\n",
      "02086101_2807\n",
      "02086101_2807.cube\n",
      "02086101_grid\n",
      "jup_test.vdc\n",
      "test2.out\n",
      "test_data\n",
      "test.vdc\n",
      "vapor_notebook.ipynb\n",
      "\n"
     ]
    }
   ],
   "source": [
    "f = ['02086101_0001', '02086101_2807']\n",
    "gf = '02086101_grid'\n",
    "files = [f]\n",
    "vdc = 'jup_test.vdc'\n",
    "varnames = ['vr','vortz']\n",
    "vroot='/custom/software/VAPOR3-3.2.0-Linux'\n",
    "rroot='/home/feathern/devel/forks/Nick/Rayleigh/post_processing/interpolation'\n",
    "cube_size=256\n",
    "test = rayleigh_vapor(vdc_name=vdc,varnames=varnames,varfiles=files,vapor_root=vroot,nxyz=cube_size, grid_file=gf, rayleigh_root=rroot)\n",
    "test.create_vdc()"
   ]
  },
  {
   "cell_type": "code",
   "execution_count": 150,
   "metadata": {},
   "outputs": [
    {
     "name": "stdout",
     "output_type": "stream",
     "text": [
      "/custom/software/miniconda3/envs/radev/bin:/custom/software/miniconda3/envs/radev/bin:/custom/software/miniconda3/condabin:/custom/software/mpich/3.2.1/gcc/7.3.0/bin:/usr/local/sbin:/usr/local/bin:/usr/sbin:/usr/bin:/sbin:/bin:/usr/games:/usr/local/games:/snap/bin:/home/feathern/devel/forks/Nick/Rayleigh/post_processing/interpolation\n",
      "\n",
      "\n",
      "export PATH=$PATH:/custom/software/VAPOR3-3.2.0-Linux/bin && export LD_LIBRARY_PATH=/custom/software/VAPOR3-3.2.0-Linux/lib:$LD_LIBRARY_PATH && raw2vdc -ts 0 -varname vr jup_test.vdc 02086101_0001.cube\n",
      "/custom/software/miniconda3/envs/radev/bin:/custom/software/miniconda3/envs/radev/bin:/custom/software/miniconda3/condabin:/custom/software/mpich/3.2.1/gcc/7.3.0/bin:/usr/local/sbin:/usr/local/bin:/usr/sbin:/usr/bin:/sbin:/bin:/usr/games:/usr/local/games:/snap/bin:/home/feathern/devel/forks/Nick/Rayleigh/post_processing/interpolation\n",
      "\n",
      "\n",
      "export PATH=$PATH:/custom/software/VAPOR3-3.2.0-Linux/bin && export LD_LIBRARY_PATH=/custom/software/VAPOR3-3.2.0-Linux/lib:$LD_LIBRARY_PATH && raw2vdc -ts 0 -varname vortz jup_test.vdc 02086101_2807.cube\n"
     ]
    }
   ],
   "source": [
    "test.populate_vdc()"
   ]
  },
  {
   "cell_type": "code",
   "execution_count": null,
   "metadata": {},
   "outputs": [],
   "source": []
  },
  {
   "cell_type": "code",
   "execution_count": null,
   "metadata": {},
   "outputs": [],
   "source": []
  },
  {
   "cell_type": "code",
   "execution_count": null,
   "metadata": {},
   "outputs": [],
   "source": []
  },
  {
   "cell_type": "code",
   "execution_count": null,
   "metadata": {},
   "outputs": [],
   "source": []
  },
  {
   "cell_type": "code",
   "execution_count": null,
   "metadata": {},
   "outputs": [],
   "source": []
  },
  {
   "cell_type": "code",
   "execution_count": null,
   "metadata": {},
   "outputs": [],
   "source": []
  },
  {
   "cell_type": "code",
   "execution_count": null,
   "metadata": {},
   "outputs": [],
   "source": []
  },
  {
   "cell_type": "code",
   "execution_count": null,
   "metadata": {},
   "outputs": [],
   "source": []
  },
  {
   "cell_type": "code",
   "execution_count": null,
   "metadata": {},
   "outputs": [],
   "source": []
  }
 ],
 "metadata": {
  "kernelspec": {
   "display_name": "Python 3",
   "language": "python",
   "name": "python3"
  },
  "language_info": {
   "codemirror_mode": {
    "name": "ipython",
    "version": 3
   },
   "file_extension": ".py",
   "mimetype": "text/x-python",
   "name": "python",
   "nbconvert_exporter": "python",
   "pygments_lexer": "ipython3",
   "version": "3.7.3"
  }
 },
 "nbformat": 4,
 "nbformat_minor": 2
}
