{
 "cells": [
  {
   "cell_type": "code",
   "execution_count": null,
   "metadata": {},
   "outputs": [],
   "source": [
    "from rayleigh_diagnostics import AZ_Avgs, build_file_list, TimeAvg_AZAverages, plot_azav, streamfunction\n",
    "import matplotlib.pyplot as plt\n",
    "import numpy\n",
    "import pylab"
   ]
  },
  {
   "cell_type": "code",
   "execution_count": null,
   "metadata": {},
   "outputs": [],
   "source": [
    "pref = ['./ra1e6/']\n",
    "cases=['ek1em3_ra1e6_fr0', 'ek1em3_ra1e6_fr0.1', 'ek1em3_ra1e6_fr0.5', \n",
    "       'ek1em3_ra1e6_fr1.0', 'ek1em3_ra1e6_fr1.5' ]\n",
    "ncases = len(cases)\n",
    "imin = 0\n",
    "imax = 10000000 # 10 million\n",
    "numavg = 3   # Number of AZ_Avg files"
   ]
  },
  {
   "cell_type": "code",
   "execution_count": null,
   "metadata": {},
   "outputs": [],
   "source": [
    "comp_files=[]\n",
    "for p in pref:\n",
    "    ctemp=[]\n",
    "    for c in cases:\n",
    "        case_path = p+c\n",
    "        files = build_file_list(imin,imax,path = case_path+'/AZ_Avgs')  # Build file list\n",
    "        nf = len(files)   # grab first and last iter for compiled file  name\n",
    "        files = files[nf-numavg:nf]\n",
    "        nf = len(files)\n",
    "        f0 = files[0].split('/')\n",
    "        f1 = files[nf-1].split('/')\n",
    "        i0 = f0[len(f0)-1]\n",
    "        i1 = f1[len(f1)-1]\n",
    "        comp_file=case_path+'/azcomp_'+i0+'_'+i1\n",
    "        ctemp.append(comp_file)\n",
    "        TimeAvg_AZAverages(files,comp_file)\n",
    "    comp_files.append(ctemp)"
   ]
  },
  {
   "cell_type": "code",
   "execution_count": null,
   "metadata": {},
   "outputs": [],
   "source": [
    "#Loop over the compiled files\n",
    "azavgs = []\n",
    "for cf in comp_files[0]:\n",
    "    a = AZ_Avgs(cf,path='')\n",
    "    azavgs.append(a)"
   ]
  },
  {
   "cell_type": "code",
   "execution_count": null,
   "metadata": {},
   "outputs": [],
   "source": [
    "tsize = 10     # title font size\n",
    "cbfsize = 10   # colorbar font size\n",
    "plt.rcParams.update({'font.size': 14})"
   ]
  },
  {
   "cell_type": "code",
   "execution_count": null,
   "metadata": {},
   "outputs": [],
   "source": [
    "#Temperature\n",
    "%matplotlib inline\n",
    "fig, ax = plt.subplots(ncols=ncases,figsize=(15,5))\n",
    "units = '(nondimensional)'\n",
    "for i,a in enumerate(azavgs):\n",
    "    temp = a.vals[:,:,a.lut[501],0]\n",
    "    radius   = a.radius\n",
    "    costheta = a.costheta\n",
    "    sintheta = a.sintheta\n",
    "    nr=a.nr\n",
    "    ntheta=a.ntheta\n",
    "    #Subtrace the ell=0 component from temperature at each radius\n",
    "    for j in range(nr):\n",
    "        temp[:,j]=temp[:,j] - numpy.mean(temp[:,j])    \n",
    "    print(temp.shape)\n",
    "    plot_azav(fig,ax[i],temp,radius,costheta,sintheta,mycmap='RdYlBu_r',boundsfactor = 2, \n",
    "              boundstype='rms', units=units, fontsize = cbfsize)\n",
    "    ax[i].set_title(cases[i],fontsize=tsize)"
   ]
  },
  {
   "cell_type": "code",
   "execution_count": null,
   "metadata": {},
   "outputs": [],
   "source": [
    "#Omega\n",
    "%matplotlib inline\n",
    "fig, ax = plt.subplots(ncols=ncases,figsize=(15,5))\n",
    "units = '(nondimensional)'\n",
    "for i,a in enumerate(azavgs):\n",
    "    vphi = a.vals[:,:,a.lut[3],0]\n",
    "    radius   = a.radius\n",
    "    costheta = a.costheta\n",
    "    sintheta = a.sintheta\n",
    "    nr=a.nr\n",
    "    ntheta=a.ntheta\n",
    "    #convert vphi to omega\n",
    "\n",
    "    omega=numpy.zeros((ntheta,nr))\n",
    "    for j in range(nr):\n",
    "        omega[:,j]=vphi[:,j]/(radius[j]*sintheta[:])\n",
    "\n",
    "    plot_azav(fig,ax[i],omega,radius,costheta,sintheta,mycmap='RdYlBu_r',boundsfactor = 2, \n",
    "              boundstype='rms', units=units, fontsize = cbfsize)\n",
    "    ax[i].set_title(cases[i],fontsize=tsize)"
   ]
  },
  {
   "cell_type": "code",
   "execution_count": null,
   "metadata": {},
   "outputs": [],
   "source": [
    "#Omega\n",
    "%matplotlib inline\n",
    "fig, ax = plt.subplots(ncols=ncases,figsize=(15,5))\n",
    "units = '(nondimensional)'\n",
    "for i,a in enumerate(azavgs):\n",
    "    vr = a.vals[:,:,a.lut[1],0]\n",
    "    vtheta = a.vals[:,:,a.lut[2],0]\n",
    "    radius   = a.radius\n",
    "    costheta = a.costheta\n",
    "    sintheta = a.sintheta\n",
    "    nr=a.nr\n",
    "    ntheta=a.ntheta\n",
    "    #build streamfunction + magnitude array\n",
    "    psi = streamfunction(vr,vtheta,radius,costheta,order=0)\n",
    "    vmag = numpy.sqrt(vr**2+vtheta**2)*numpy.sign(psi)\n",
    "    plot_azav(fig,ax[i],psi,radius,costheta,sintheta,mycmap='RdYlBu_r',boundsfactor = 2, \n",
    "              boundstype='rms', units=units, fontsize = cbfsize, underlay=vmag)\n",
    "    ax[i].set_title(cases[i],fontsize=tsize)"
   ]
  },
  {
   "cell_type": "code",
   "execution_count": null,
   "metadata": {},
   "outputs": [],
   "source": []
  }
 ],
 "metadata": {
  "kernelspec": {
   "display_name": "Python 3 (idp)",
   "language": "python",
   "name": "python3"
  },
  "language_info": {
   "codemirror_mode": {
    "name": "ipython",
    "version": 3
   },
   "file_extension": ".py",
   "mimetype": "text/x-python",
   "name": "python",
   "nbconvert_exporter": "python",
   "pygments_lexer": "ipython3",
   "version": "3.6.8"
  }
 },
 "nbformat": 4,
 "nbformat_minor": 2
}
