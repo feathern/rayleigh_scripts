{
 "cells": [
  {
   "cell_type": "code",
   "execution_count": null,
   "metadata": {},
   "outputs": [],
   "source": [
    "from rayleigh_diagnostics import Shell_Avgs, build_file_list, TimeAvg_ShellAverages\n",
    "import matplotlib.pyplot as plt\n",
    "import numpy"
   ]
  },
  {
   "cell_type": "code",
   "execution_count": null,
   "metadata": {},
   "outputs": [],
   "source": [
    "pref = ['./ra1e6/']\n",
    "cases=['ek1em3_ra1e6_fr0', 'ek1em3_ra1e6_fr0.1', 'ek1em3_ra1e6_fr0.5', \n",
    "       'ek1em3_ra1e6_fr1.0', 'ek1em3_ra1e6_fr1.5' ]\n",
    "imin = 0\n",
    "imax = 10000000 # 10 million\n",
    "numavg = 2   # Number of Shell_Avg files"
   ]
  },
  {
   "cell_type": "code",
   "execution_count": null,
   "metadata": {},
   "outputs": [],
   "source": [
    "comp_files=[]\n",
    "for p in pref:\n",
    "    ctemp=[]\n",
    "    for c in cases:\n",
    "        case_path = p+c\n",
    "        files = build_file_list(imin,imax,path = case_path+'/Shell_Avgs')  # Build file list\n",
    "        nf = len(files)   # grab first and last iter for compiled file  name\n",
    "        files = files[nf-numavg:nf]\n",
    "        nf = len(files)\n",
    "        f0 = files[0].split('/')\n",
    "        f1 = files[nf-1].split('/')\n",
    "        i0 = f0[len(f0)-1]\n",
    "        i1 = f1[len(f1)-1]\n",
    "        comp_file=case_path+'/sacomp_'+i0+'_'+i1\n",
    "        ctemp.append(comp_file)\n",
    "        TimeAvg_ShellAverages(files,comp_file)\n",
    "    comp_files.append(ctemp)"
   ]
  },
  {
   "cell_type": "code",
   "execution_count": null,
   "metadata": {},
   "outputs": [],
   "source": [
    "#Loop over the compiled files\n",
    "savgs = []\n",
    "for cf in comp_files[0]:\n",
    "    s = Shell_Avgs(cf,path='')\n",
    "    savgs.append(s)"
   ]
  },
  {
   "cell_type": "code",
   "execution_count": null,
   "metadata": {},
   "outputs": [],
   "source": [
    "%matplotlib inline\n",
    "fig, ax = plt.subplots()\n",
    "for i,s in enumerate(savgs):\n",
    "    ax.plot(s.radius,s.vals[:,0,s.lut[501]], label=cases[i])\n",
    "#ax.set_yscale('log')\n",
    "#ax.set_ylim([5e3,1.5e4])\n",
    "#ax.set_xlim([0.1,2.5])\n",
    "ax.set_xlabel('Time')\n",
    "ax.set_ylabel('Temperature')\n",
    "ax.set_title('Shell-averaged Temperature Profiles')\n",
    "ax.legend()\n",
    "plt.show()\n"
   ]
  },
  {
   "cell_type": "code",
   "execution_count": null,
   "metadata": {},
   "outputs": [],
   "source": [
    "%matplotlib inline\n",
    "fig, ax = plt.subplots()\n",
    "fpr = 4.0*numpy.pi*s.radius[:]*s.radius[:]\n",
    "\n",
    "for i,s in enumerate(savgs):\n",
    "    heat=s.vals[:,0,s.lut[1440]].reshape(s.nr)\n",
    "    ax.plot(s.radius,heat*fpr, label=cases[i])\n",
    "ax.set_xlabel('Time')\n",
    "ax.set_ylabel('Flux')\n",
    "ax.set_title('Shell-averaged Heat Flux')\n",
    "ax.legend()\n",
    "plt.show()"
   ]
  },
  {
   "cell_type": "code",
   "execution_count": null,
   "metadata": {},
   "outputs": [],
   "source": [
    "%matplotlib inline\n",
    "fig, ax = plt.subplots()\n",
    "\n",
    "for i,s in enumerate(savgs):\n",
    "    cond=s.vals[:,0,s.lut[1470]].reshape(s.nr)\n",
    "    ax.plot(s.radius,cond*fpr, label=cases[i])\n",
    "ax.set_xlabel('Time')\n",
    "ax.set_ylabel('Flux')\n",
    "ax.set_title('Shell-averaged Conductive Flux')\n",
    "ax.legend()\n",
    "plt.show()"
   ]
  }
 ],
 "metadata": {
  "kernelspec": {
   "display_name": "Python 3 (idp)",
   "language": "python",
   "name": "python3"
  },
  "language_info": {
   "codemirror_mode": {
    "name": "ipython",
    "version": 3
   },
   "file_extension": ".py",
   "mimetype": "text/x-python",
   "name": "python",
   "nbconvert_exporter": "python",
   "pygments_lexer": "ipython3",
   "version": "3.6.8"
  }
 },
 "nbformat": 4,
 "nbformat_minor": 2
}
